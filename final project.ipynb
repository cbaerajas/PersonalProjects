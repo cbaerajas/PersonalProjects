{
 "cells": [
  {
   "cell_type": "code",
   "execution_count": 1,
   "id": "c8b9ffd4",
   "metadata": {},
   "outputs": [],
   "source": [
    "import pandas as pd\n",
    "import numpy as np\n",
    "import seaborn as sns\n",
    "import matplotlib.pyplot as plt\n",
    "import scipy"
   ]
  },
  {
   "cell_type": "markdown",
   "id": "27cf4878",
   "metadata": {},
   "source": [
    "#  Matches"
   ]
  },
  {
   "cell_type": "code",
   "execution_count": 2,
   "id": "355b3b97",
   "metadata": {},
   "outputs": [],
   "source": [
    "matches_df = pd.read_csv('spi_matches_latest.csv')"
   ]
  },
  {
   "cell_type": "code",
   "execution_count": 3,
   "id": "81121529",
   "metadata": {},
   "outputs": [
    {
     "data": {
      "text/plain": [
       "(11737, 23)"
      ]
     },
     "execution_count": 3,
     "metadata": {},
     "output_type": "execute_result"
    }
   ],
   "source": [
    "matches_df.shape"
   ]
  },
  {
   "cell_type": "code",
   "execution_count": 4,
   "id": "b354cdee",
   "metadata": {},
   "outputs": [
    {
     "data": {
      "text/html": [
       "<div>\n",
       "<style scoped>\n",
       "    .dataframe tbody tr th:only-of-type {\n",
       "        vertical-align: middle;\n",
       "    }\n",
       "\n",
       "    .dataframe tbody tr th {\n",
       "        vertical-align: top;\n",
       "    }\n",
       "\n",
       "    .dataframe thead th {\n",
       "        text-align: right;\n",
       "    }\n",
       "</style>\n",
       "<table border=\"1\" class=\"dataframe\">\n",
       "  <thead>\n",
       "    <tr style=\"text-align: right;\">\n",
       "      <th></th>\n",
       "      <th>season</th>\n",
       "      <th>date</th>\n",
       "      <th>league_id</th>\n",
       "      <th>league</th>\n",
       "      <th>team1</th>\n",
       "      <th>team2</th>\n",
       "      <th>spi1</th>\n",
       "      <th>spi2</th>\n",
       "      <th>prob1</th>\n",
       "      <th>prob2</th>\n",
       "      <th>...</th>\n",
       "      <th>importance1</th>\n",
       "      <th>importance2</th>\n",
       "      <th>score1</th>\n",
       "      <th>score2</th>\n",
       "      <th>xg1</th>\n",
       "      <th>xg2</th>\n",
       "      <th>nsxg1</th>\n",
       "      <th>nsxg2</th>\n",
       "      <th>adj_score1</th>\n",
       "      <th>adj_score2</th>\n",
       "    </tr>\n",
       "  </thead>\n",
       "  <tbody>\n",
       "    <tr>\n",
       "      <th>0</th>\n",
       "      <td>2019</td>\n",
       "      <td>2019-03-01</td>\n",
       "      <td>1979</td>\n",
       "      <td>Chinese Super League</td>\n",
       "      <td>Shandong Luneng</td>\n",
       "      <td>Guizhou Renhe</td>\n",
       "      <td>48.22</td>\n",
       "      <td>37.83</td>\n",
       "      <td>0.5755</td>\n",
       "      <td>0.1740</td>\n",
       "      <td>...</td>\n",
       "      <td>45.9</td>\n",
       "      <td>22.1</td>\n",
       "      <td>1.0</td>\n",
       "      <td>0.0</td>\n",
       "      <td>1.39</td>\n",
       "      <td>0.26</td>\n",
       "      <td>2.05</td>\n",
       "      <td>0.54</td>\n",
       "      <td>1.05</td>\n",
       "      <td>0.00</td>\n",
       "    </tr>\n",
       "    <tr>\n",
       "      <th>1</th>\n",
       "      <td>2019</td>\n",
       "      <td>2019-03-01</td>\n",
       "      <td>1979</td>\n",
       "      <td>Chinese Super League</td>\n",
       "      <td>Shanghai Greenland</td>\n",
       "      <td>Shanghai SIPG</td>\n",
       "      <td>39.81</td>\n",
       "      <td>60.08</td>\n",
       "      <td>0.2387</td>\n",
       "      <td>0.5203</td>\n",
       "      <td>...</td>\n",
       "      <td>25.6</td>\n",
       "      <td>63.4</td>\n",
       "      <td>0.0</td>\n",
       "      <td>4.0</td>\n",
       "      <td>0.57</td>\n",
       "      <td>2.76</td>\n",
       "      <td>0.80</td>\n",
       "      <td>1.50</td>\n",
       "      <td>0.00</td>\n",
       "      <td>3.26</td>\n",
       "    </tr>\n",
       "    <tr>\n",
       "      <th>2</th>\n",
       "      <td>2019</td>\n",
       "      <td>2019-03-01</td>\n",
       "      <td>1979</td>\n",
       "      <td>Chinese Super League</td>\n",
       "      <td>Guangzhou Evergrande</td>\n",
       "      <td>Tianjin Quanujian</td>\n",
       "      <td>65.59</td>\n",
       "      <td>39.99</td>\n",
       "      <td>0.7832</td>\n",
       "      <td>0.0673</td>\n",
       "      <td>...</td>\n",
       "      <td>77.1</td>\n",
       "      <td>28.8</td>\n",
       "      <td>3.0</td>\n",
       "      <td>0.0</td>\n",
       "      <td>0.49</td>\n",
       "      <td>0.45</td>\n",
       "      <td>1.05</td>\n",
       "      <td>0.75</td>\n",
       "      <td>3.15</td>\n",
       "      <td>0.00</td>\n",
       "    </tr>\n",
       "    <tr>\n",
       "      <th>3</th>\n",
       "      <td>2019</td>\n",
       "      <td>2019-03-01</td>\n",
       "      <td>1979</td>\n",
       "      <td>Chinese Super League</td>\n",
       "      <td>Wuhan Zall</td>\n",
       "      <td>Beijing Guoan</td>\n",
       "      <td>32.25</td>\n",
       "      <td>54.82</td>\n",
       "      <td>0.2276</td>\n",
       "      <td>0.5226</td>\n",
       "      <td>...</td>\n",
       "      <td>35.8</td>\n",
       "      <td>58.9</td>\n",
       "      <td>0.0</td>\n",
       "      <td>1.0</td>\n",
       "      <td>1.12</td>\n",
       "      <td>0.97</td>\n",
       "      <td>1.51</td>\n",
       "      <td>0.94</td>\n",
       "      <td>0.00</td>\n",
       "      <td>1.05</td>\n",
       "    </tr>\n",
       "    <tr>\n",
       "      <th>4</th>\n",
       "      <td>2019</td>\n",
       "      <td>2019-03-01</td>\n",
       "      <td>1979</td>\n",
       "      <td>Chinese Super League</td>\n",
       "      <td>Chongqing Lifan</td>\n",
       "      <td>Guangzhou RF</td>\n",
       "      <td>38.24</td>\n",
       "      <td>40.45</td>\n",
       "      <td>0.4403</td>\n",
       "      <td>0.2932</td>\n",
       "      <td>...</td>\n",
       "      <td>26.2</td>\n",
       "      <td>21.3</td>\n",
       "      <td>2.0</td>\n",
       "      <td>2.0</td>\n",
       "      <td>2.77</td>\n",
       "      <td>3.17</td>\n",
       "      <td>1.05</td>\n",
       "      <td>2.08</td>\n",
       "      <td>2.10</td>\n",
       "      <td>2.10</td>\n",
       "    </tr>\n",
       "  </tbody>\n",
       "</table>\n",
       "<p>5 rows × 23 columns</p>\n",
       "</div>"
      ],
      "text/plain": [
       "   season        date  league_id                league                 team1  \\\n",
       "0    2019  2019-03-01       1979  Chinese Super League       Shandong Luneng   \n",
       "1    2019  2019-03-01       1979  Chinese Super League    Shanghai Greenland   \n",
       "2    2019  2019-03-01       1979  Chinese Super League  Guangzhou Evergrande   \n",
       "3    2019  2019-03-01       1979  Chinese Super League            Wuhan Zall   \n",
       "4    2019  2019-03-01       1979  Chinese Super League       Chongqing Lifan   \n",
       "\n",
       "               team2   spi1   spi2   prob1   prob2  ...  importance1  \\\n",
       "0      Guizhou Renhe  48.22  37.83  0.5755  0.1740  ...         45.9   \n",
       "1      Shanghai SIPG  39.81  60.08  0.2387  0.5203  ...         25.6   \n",
       "2  Tianjin Quanujian  65.59  39.99  0.7832  0.0673  ...         77.1   \n",
       "3      Beijing Guoan  32.25  54.82  0.2276  0.5226  ...         35.8   \n",
       "4       Guangzhou RF  38.24  40.45  0.4403  0.2932  ...         26.2   \n",
       "\n",
       "   importance2  score1  score2   xg1   xg2  nsxg1  nsxg2  adj_score1  \\\n",
       "0         22.1     1.0     0.0  1.39  0.26   2.05   0.54        1.05   \n",
       "1         63.4     0.0     4.0  0.57  2.76   0.80   1.50        0.00   \n",
       "2         28.8     3.0     0.0  0.49  0.45   1.05   0.75        3.15   \n",
       "3         58.9     0.0     1.0  1.12  0.97   1.51   0.94        0.00   \n",
       "4         21.3     2.0     2.0  2.77  3.17   1.05   2.08        2.10   \n",
       "\n",
       "   adj_score2  \n",
       "0        0.00  \n",
       "1        3.26  \n",
       "2        0.00  \n",
       "3        1.05  \n",
       "4        2.10  \n",
       "\n",
       "[5 rows x 23 columns]"
      ]
     },
     "execution_count": 4,
     "metadata": {},
     "output_type": "execute_result"
    }
   ],
   "source": [
    "matches_df.head()"
   ]
  },
  {
   "cell_type": "code",
   "execution_count": 5,
   "id": "9958355f",
   "metadata": {},
   "outputs": [
    {
     "data": {
      "text/plain": [
       "array(['Chinese Super League', 'NWSL Challenge Cup',\n",
       "       'Mexican Primera Division Torneo Apertura', 'Danish SAS-Ligaen',\n",
       "       'Russian Premier Liga', 'German 2. Bundesliga',\n",
       "       'Swiss Raiffeisen Super League', 'Austrian T-Mobile Bundesliga',\n",
       "       'Belgian Jupiler League', 'English League Championship',\n",
       "       'Scottish Premiership', 'French Ligue 2', 'English League Two',\n",
       "       'English League One', 'South African ABSA Premier League',\n",
       "       'Turkish Turkcell Super Lig', 'Dutch Eredivisie',\n",
       "       'German Bundesliga', 'French Ligue 1', 'Barclays Premier League',\n",
       "       'Portuguese Liga', 'Italy Serie B', 'Spanish Segunda Division',\n",
       "       'Spanish Primera Division', 'Italy Serie A', 'Greek Super League',\n",
       "       'UEFA Champions League', 'UEFA Europa Conference League',\n",
       "       'UEFA Europa League', \"FA Women's Super League\",\n",
       "       'Australian A-League', 'Mexican Primera Division Torneo Clausura',\n",
       "       'Argentina Primera Division', 'Japanese J League',\n",
       "       'Major League Soccer', 'United Soccer League',\n",
       "       \"National Women's Soccer League\", 'Swedish Allsvenskan',\n",
       "       'Norwegian Tippeligaen', 'Brasileiro Série A'], dtype=object)"
      ]
     },
     "execution_count": 5,
     "metadata": {},
     "output_type": "execute_result"
    }
   ],
   "source": [
    "matches_df['league'].unique()"
   ]
  },
  {
   "cell_type": "code",
   "execution_count": 6,
   "id": "16f50731",
   "metadata": {},
   "outputs": [
    {
     "data": {
      "text/plain": [
       "(380, 23)"
      ]
     },
     "execution_count": 6,
     "metadata": {},
     "output_type": "execute_result"
    }
   ],
   "source": [
    "english_matches = matches_df[matches_df['league'] == 'Barclays Premier League']\n",
    "english_matches.shape"
   ]
  },
  {
   "cell_type": "code",
   "execution_count": 7,
   "id": "8e6ae21a",
   "metadata": {},
   "outputs": [
    {
     "data": {
      "text/html": [
       "<div>\n",
       "<style scoped>\n",
       "    .dataframe tbody tr th:only-of-type {\n",
       "        vertical-align: middle;\n",
       "    }\n",
       "\n",
       "    .dataframe tbody tr th {\n",
       "        vertical-align: top;\n",
       "    }\n",
       "\n",
       "    .dataframe thead th {\n",
       "        text-align: right;\n",
       "    }\n",
       "</style>\n",
       "<table border=\"1\" class=\"dataframe\">\n",
       "  <thead>\n",
       "    <tr style=\"text-align: right;\">\n",
       "      <th></th>\n",
       "      <th>season</th>\n",
       "      <th>date</th>\n",
       "      <th>league_id</th>\n",
       "      <th>league</th>\n",
       "      <th>team1</th>\n",
       "      <th>team2</th>\n",
       "      <th>spi1</th>\n",
       "      <th>spi2</th>\n",
       "      <th>prob1</th>\n",
       "      <th>prob2</th>\n",
       "      <th>...</th>\n",
       "      <th>importance1</th>\n",
       "      <th>importance2</th>\n",
       "      <th>score1</th>\n",
       "      <th>score2</th>\n",
       "      <th>xg1</th>\n",
       "      <th>xg2</th>\n",
       "      <th>nsxg1</th>\n",
       "      <th>nsxg2</th>\n",
       "      <th>adj_score1</th>\n",
       "      <th>adj_score2</th>\n",
       "    </tr>\n",
       "  </thead>\n",
       "  <tbody>\n",
       "    <tr>\n",
       "      <th>501</th>\n",
       "      <td>2022</td>\n",
       "      <td>2022-08-05</td>\n",
       "      <td>2411</td>\n",
       "      <td>Barclays Premier League</td>\n",
       "      <td>Crystal Palace</td>\n",
       "      <td>Arsenal</td>\n",
       "      <td>71.36</td>\n",
       "      <td>78.53</td>\n",
       "      <td>0.3159</td>\n",
       "      <td>0.4205</td>\n",
       "      <td>...</td>\n",
       "      <td>22.8</td>\n",
       "      <td>48.6</td>\n",
       "      <td>0.0</td>\n",
       "      <td>2.0</td>\n",
       "      <td>1.30</td>\n",
       "      <td>1.36</td>\n",
       "      <td>1.40</td>\n",
       "      <td>2.41</td>\n",
       "      <td>0.00</td>\n",
       "      <td>1.72</td>\n",
       "    </tr>\n",
       "    <tr>\n",
       "      <th>508</th>\n",
       "      <td>2022</td>\n",
       "      <td>2022-08-06</td>\n",
       "      <td>2411</td>\n",
       "      <td>Barclays Premier League</td>\n",
       "      <td>Fulham</td>\n",
       "      <td>Liverpool</td>\n",
       "      <td>58.70</td>\n",
       "      <td>90.51</td>\n",
       "      <td>0.0926</td>\n",
       "      <td>0.7466</td>\n",
       "      <td>...</td>\n",
       "      <td>39.7</td>\n",
       "      <td>68.2</td>\n",
       "      <td>2.0</td>\n",
       "      <td>2.0</td>\n",
       "      <td>1.25</td>\n",
       "      <td>2.57</td>\n",
       "      <td>0.78</td>\n",
       "      <td>1.41</td>\n",
       "      <td>2.10</td>\n",
       "      <td>2.10</td>\n",
       "    </tr>\n",
       "    <tr>\n",
       "      <th>526</th>\n",
       "      <td>2022</td>\n",
       "      <td>2022-08-06</td>\n",
       "      <td>2411</td>\n",
       "      <td>Barclays Premier League</td>\n",
       "      <td>Newcastle</td>\n",
       "      <td>Nottingham Forest</td>\n",
       "      <td>68.65</td>\n",
       "      <td>57.31</td>\n",
       "      <td>0.5401</td>\n",
       "      <td>0.2045</td>\n",
       "      <td>...</td>\n",
       "      <td>30.4</td>\n",
       "      <td>42.6</td>\n",
       "      <td>2.0</td>\n",
       "      <td>0.0</td>\n",
       "      <td>1.82</td>\n",
       "      <td>0.26</td>\n",
       "      <td>3.33</td>\n",
       "      <td>0.48</td>\n",
       "      <td>1.90</td>\n",
       "      <td>0.00</td>\n",
       "    </tr>\n",
       "    <tr>\n",
       "      <th>530</th>\n",
       "      <td>2022</td>\n",
       "      <td>2022-08-06</td>\n",
       "      <td>2411</td>\n",
       "      <td>Barclays Premier League</td>\n",
       "      <td>AFC Bournemouth</td>\n",
       "      <td>Aston Villa</td>\n",
       "      <td>57.92</td>\n",
       "      <td>74.05</td>\n",
       "      <td>0.2719</td>\n",
       "      <td>0.4687</td>\n",
       "      <td>...</td>\n",
       "      <td>40.2</td>\n",
       "      <td>28.8</td>\n",
       "      <td>2.0</td>\n",
       "      <td>0.0</td>\n",
       "      <td>0.49</td>\n",
       "      <td>0.68</td>\n",
       "      <td>0.79</td>\n",
       "      <td>1.95</td>\n",
       "      <td>1.84</td>\n",
       "      <td>0.00</td>\n",
       "    </tr>\n",
       "    <tr>\n",
       "      <th>556</th>\n",
       "      <td>2022</td>\n",
       "      <td>2022-08-06</td>\n",
       "      <td>2411</td>\n",
       "      <td>Barclays Premier League</td>\n",
       "      <td>Leeds United</td>\n",
       "      <td>Wolverhampton</td>\n",
       "      <td>62.15</td>\n",
       "      <td>67.72</td>\n",
       "      <td>0.3941</td>\n",
       "      <td>0.3456</td>\n",
       "      <td>...</td>\n",
       "      <td>33.5</td>\n",
       "      <td>23.5</td>\n",
       "      <td>2.0</td>\n",
       "      <td>1.0</td>\n",
       "      <td>0.84</td>\n",
       "      <td>1.11</td>\n",
       "      <td>1.02</td>\n",
       "      <td>2.58</td>\n",
       "      <td>2.10</td>\n",
       "      <td>1.05</td>\n",
       "    </tr>\n",
       "  </tbody>\n",
       "</table>\n",
       "<p>5 rows × 23 columns</p>\n",
       "</div>"
      ],
      "text/plain": [
       "     season        date  league_id                   league            team1  \\\n",
       "501    2022  2022-08-05       2411  Barclays Premier League   Crystal Palace   \n",
       "508    2022  2022-08-06       2411  Barclays Premier League           Fulham   \n",
       "526    2022  2022-08-06       2411  Barclays Premier League        Newcastle   \n",
       "530    2022  2022-08-06       2411  Barclays Premier League  AFC Bournemouth   \n",
       "556    2022  2022-08-06       2411  Barclays Premier League     Leeds United   \n",
       "\n",
       "                 team2   spi1   spi2   prob1   prob2  ...  importance1  \\\n",
       "501            Arsenal  71.36  78.53  0.3159  0.4205  ...         22.8   \n",
       "508          Liverpool  58.70  90.51  0.0926  0.7466  ...         39.7   \n",
       "526  Nottingham Forest  68.65  57.31  0.5401  0.2045  ...         30.4   \n",
       "530        Aston Villa  57.92  74.05  0.2719  0.4687  ...         40.2   \n",
       "556      Wolverhampton  62.15  67.72  0.3941  0.3456  ...         33.5   \n",
       "\n",
       "     importance2  score1  score2   xg1   xg2  nsxg1  nsxg2  adj_score1  \\\n",
       "501         48.6     0.0     2.0  1.30  1.36   1.40   2.41        0.00   \n",
       "508         68.2     2.0     2.0  1.25  2.57   0.78   1.41        2.10   \n",
       "526         42.6     2.0     0.0  1.82  0.26   3.33   0.48        1.90   \n",
       "530         28.8     2.0     0.0  0.49  0.68   0.79   1.95        1.84   \n",
       "556         23.5     2.0     1.0  0.84  1.11   1.02   2.58        2.10   \n",
       "\n",
       "     adj_score2  \n",
       "501        1.72  \n",
       "508        2.10  \n",
       "526        0.00  \n",
       "530        0.00  \n",
       "556        1.05  \n",
       "\n",
       "[5 rows x 23 columns]"
      ]
     },
     "execution_count": 7,
     "metadata": {},
     "output_type": "execute_result"
    }
   ],
   "source": [
    "english_matches.head()"
   ]
  },
  {
   "cell_type": "code",
   "execution_count": 8,
   "id": "f76aa66a",
   "metadata": {
    "scrolled": false
   },
   "outputs": [
    {
     "data": {
      "text/plain": [
       "season           int64\n",
       "date            object\n",
       "league_id        int64\n",
       "league          object\n",
       "team1           object\n",
       "team2           object\n",
       "spi1           float64\n",
       "spi2           float64\n",
       "prob1          float64\n",
       "prob2          float64\n",
       "probtie        float64\n",
       "proj_score1    float64\n",
       "proj_score2    float64\n",
       "importance1    float64\n",
       "importance2    float64\n",
       "score1         float64\n",
       "score2         float64\n",
       "xg1            float64\n",
       "xg2            float64\n",
       "nsxg1          float64\n",
       "nsxg2          float64\n",
       "adj_score1     float64\n",
       "adj_score2     float64\n",
       "dtype: object"
      ]
     },
     "execution_count": 8,
     "metadata": {},
     "output_type": "execute_result"
    }
   ],
   "source": [
    "english_matches.dtypes"
   ]
  },
  {
   "cell_type": "code",
   "execution_count": 9,
   "id": "57c3cd36",
   "metadata": {},
   "outputs": [
    {
     "data": {
      "text/html": [
       "<div>\n",
       "<style scoped>\n",
       "    .dataframe tbody tr th:only-of-type {\n",
       "        vertical-align: middle;\n",
       "    }\n",
       "\n",
       "    .dataframe tbody tr th {\n",
       "        vertical-align: top;\n",
       "    }\n",
       "\n",
       "    .dataframe thead th {\n",
       "        text-align: right;\n",
       "    }\n",
       "</style>\n",
       "<table border=\"1\" class=\"dataframe\">\n",
       "  <thead>\n",
       "    <tr style=\"text-align: right;\">\n",
       "      <th></th>\n",
       "      <th>season</th>\n",
       "      <th>date</th>\n",
       "      <th>league_id</th>\n",
       "      <th>league</th>\n",
       "      <th>team1</th>\n",
       "      <th>team2</th>\n",
       "      <th>spi1</th>\n",
       "      <th>spi2</th>\n",
       "      <th>prob1</th>\n",
       "      <th>prob2</th>\n",
       "      <th>...</th>\n",
       "      <th>importance1</th>\n",
       "      <th>importance2</th>\n",
       "      <th>score1</th>\n",
       "      <th>score2</th>\n",
       "      <th>xg1</th>\n",
       "      <th>xg2</th>\n",
       "      <th>nsxg1</th>\n",
       "      <th>nsxg2</th>\n",
       "      <th>adj_score1</th>\n",
       "      <th>adj_score2</th>\n",
       "    </tr>\n",
       "  </thead>\n",
       "  <tbody>\n",
       "    <tr>\n",
       "      <th>1174</th>\n",
       "      <td>2022</td>\n",
       "      <td>2022-08-27</td>\n",
       "      <td>2411</td>\n",
       "      <td>Barclays Premier League</td>\n",
       "      <td>Liverpool</td>\n",
       "      <td>AFC Bournemouth</td>\n",
       "      <td>88.83</td>\n",
       "      <td>57.47</td>\n",
       "      <td>0.8292</td>\n",
       "      <td>0.0477</td>\n",
       "      <td>...</td>\n",
       "      <td>59.7</td>\n",
       "      <td>40.8</td>\n",
       "      <td>9.0</td>\n",
       "      <td>0.0</td>\n",
       "      <td>4.47</td>\n",
       "      <td>0.25</td>\n",
       "      <td>2.85</td>\n",
       "      <td>0.61</td>\n",
       "      <td>8.82</td>\n",
       "      <td>0.00</td>\n",
       "    </tr>\n",
       "    <tr>\n",
       "      <th>6574</th>\n",
       "      <td>2022</td>\n",
       "      <td>2023-03-05</td>\n",
       "      <td>2411</td>\n",
       "      <td>Barclays Premier League</td>\n",
       "      <td>Liverpool</td>\n",
       "      <td>Manchester United</td>\n",
       "      <td>82.88</td>\n",
       "      <td>81.35</td>\n",
       "      <td>0.4882</td>\n",
       "      <td>0.2924</td>\n",
       "      <td>...</td>\n",
       "      <td>68.1</td>\n",
       "      <td>48.6</td>\n",
       "      <td>7.0</td>\n",
       "      <td>0.0</td>\n",
       "      <td>3.66</td>\n",
       "      <td>0.83</td>\n",
       "      <td>2.04</td>\n",
       "      <td>0.87</td>\n",
       "      <td>6.42</td>\n",
       "      <td>0.00</td>\n",
       "    </tr>\n",
       "    <tr>\n",
       "      <th>2026</th>\n",
       "      <td>2022</td>\n",
       "      <td>2022-09-17</td>\n",
       "      <td>2411</td>\n",
       "      <td>Barclays Premier League</td>\n",
       "      <td>Tottenham Hotspur</td>\n",
       "      <td>Leicester City</td>\n",
       "      <td>81.87</td>\n",
       "      <td>67.43</td>\n",
       "      <td>0.6422</td>\n",
       "      <td>0.1584</td>\n",
       "      <td>...</td>\n",
       "      <td>60.9</td>\n",
       "      <td>31.7</td>\n",
       "      <td>6.0</td>\n",
       "      <td>2.0</td>\n",
       "      <td>2.45</td>\n",
       "      <td>1.78</td>\n",
       "      <td>1.60</td>\n",
       "      <td>1.18</td>\n",
       "      <td>5.48</td>\n",
       "      <td>2.10</td>\n",
       "    </tr>\n",
       "    <tr>\n",
       "      <th>8496</th>\n",
       "      <td>2022</td>\n",
       "      <td>2023-04-23</td>\n",
       "      <td>2411</td>\n",
       "      <td>Barclays Premier League</td>\n",
       "      <td>Newcastle</td>\n",
       "      <td>Tottenham Hotspur</td>\n",
       "      <td>80.50</td>\n",
       "      <td>74.32</td>\n",
       "      <td>0.5475</td>\n",
       "      <td>0.2263</td>\n",
       "      <td>...</td>\n",
       "      <td>93.1</td>\n",
       "      <td>50.4</td>\n",
       "      <td>6.0</td>\n",
       "      <td>1.0</td>\n",
       "      <td>3.75</td>\n",
       "      <td>1.12</td>\n",
       "      <td>2.80</td>\n",
       "      <td>0.40</td>\n",
       "      <td>6.30</td>\n",
       "      <td>1.05</td>\n",
       "    </tr>\n",
       "    <tr>\n",
       "      <th>2325</th>\n",
       "      <td>2022</td>\n",
       "      <td>2022-10-02</td>\n",
       "      <td>2411</td>\n",
       "      <td>Barclays Premier League</td>\n",
       "      <td>Manchester City</td>\n",
       "      <td>Manchester United</td>\n",
       "      <td>92.98</td>\n",
       "      <td>75.94</td>\n",
       "      <td>0.7386</td>\n",
       "      <td>0.1028</td>\n",
       "      <td>...</td>\n",
       "      <td>77.9</td>\n",
       "      <td>58.6</td>\n",
       "      <td>6.0</td>\n",
       "      <td>3.0</td>\n",
       "      <td>3.20</td>\n",
       "      <td>1.71</td>\n",
       "      <td>2.82</td>\n",
       "      <td>0.71</td>\n",
       "      <td>6.25</td>\n",
       "      <td>3.15</td>\n",
       "    </tr>\n",
       "  </tbody>\n",
       "</table>\n",
       "<p>5 rows × 23 columns</p>\n",
       "</div>"
      ],
      "text/plain": [
       "      season        date  league_id                   league  \\\n",
       "1174    2022  2022-08-27       2411  Barclays Premier League   \n",
       "6574    2022  2023-03-05       2411  Barclays Premier League   \n",
       "2026    2022  2022-09-17       2411  Barclays Premier League   \n",
       "8496    2022  2023-04-23       2411  Barclays Premier League   \n",
       "2325    2022  2022-10-02       2411  Barclays Premier League   \n",
       "\n",
       "                  team1              team2   spi1   spi2   prob1   prob2  ...  \\\n",
       "1174          Liverpool    AFC Bournemouth  88.83  57.47  0.8292  0.0477  ...   \n",
       "6574          Liverpool  Manchester United  82.88  81.35  0.4882  0.2924  ...   \n",
       "2026  Tottenham Hotspur     Leicester City  81.87  67.43  0.6422  0.1584  ...   \n",
       "8496          Newcastle  Tottenham Hotspur  80.50  74.32  0.5475  0.2263  ...   \n",
       "2325    Manchester City  Manchester United  92.98  75.94  0.7386  0.1028  ...   \n",
       "\n",
       "      importance1  importance2  score1  score2   xg1   xg2  nsxg1  nsxg2  \\\n",
       "1174         59.7         40.8     9.0     0.0  4.47  0.25   2.85   0.61   \n",
       "6574         68.1         48.6     7.0     0.0  3.66  0.83   2.04   0.87   \n",
       "2026         60.9         31.7     6.0     2.0  2.45  1.78   1.60   1.18   \n",
       "8496         93.1         50.4     6.0     1.0  3.75  1.12   2.80   0.40   \n",
       "2325         77.9         58.6     6.0     3.0  3.20  1.71   2.82   0.71   \n",
       "\n",
       "      adj_score1  adj_score2  \n",
       "1174        8.82        0.00  \n",
       "6574        6.42        0.00  \n",
       "2026        5.48        2.10  \n",
       "8496        6.30        1.05  \n",
       "2325        6.25        3.15  \n",
       "\n",
       "[5 rows x 23 columns]"
      ]
     },
     "execution_count": 9,
     "metadata": {},
     "output_type": "execute_result"
    }
   ],
   "source": [
    "english_matches.sort_values(by='score1', ascending=False).head(5)"
   ]
  },
  {
   "cell_type": "markdown",
   "id": "799f34ea",
   "metadata": {},
   "source": [
    "Highest scoring home team sides for individual games in the 2022 season. Liverpool scored 9 at home vs Bournemouth and 7 at home vs United"
   ]
  },
  {
   "cell_type": "code",
   "execution_count": 10,
   "id": "4083c97a",
   "metadata": {},
   "outputs": [
    {
     "data": {
      "text/html": [
       "<div>\n",
       "<style scoped>\n",
       "    .dataframe tbody tr th:only-of-type {\n",
       "        vertical-align: middle;\n",
       "    }\n",
       "\n",
       "    .dataframe tbody tr th {\n",
       "        vertical-align: top;\n",
       "    }\n",
       "\n",
       "    .dataframe thead th {\n",
       "        text-align: right;\n",
       "    }\n",
       "</style>\n",
       "<table border=\"1\" class=\"dataframe\">\n",
       "  <thead>\n",
       "    <tr style=\"text-align: right;\">\n",
       "      <th></th>\n",
       "      <th>season</th>\n",
       "      <th>date</th>\n",
       "      <th>league_id</th>\n",
       "      <th>league</th>\n",
       "      <th>team1</th>\n",
       "      <th>team2</th>\n",
       "      <th>spi1</th>\n",
       "      <th>spi2</th>\n",
       "      <th>prob1</th>\n",
       "      <th>prob2</th>\n",
       "      <th>...</th>\n",
       "      <th>importance1</th>\n",
       "      <th>importance2</th>\n",
       "      <th>score1</th>\n",
       "      <th>score2</th>\n",
       "      <th>xg1</th>\n",
       "      <th>xg2</th>\n",
       "      <th>nsxg1</th>\n",
       "      <th>nsxg2</th>\n",
       "      <th>adj_score1</th>\n",
       "      <th>adj_score2</th>\n",
       "    </tr>\n",
       "  </thead>\n",
       "  <tbody>\n",
       "    <tr>\n",
       "      <th>8224</th>\n",
       "      <td>2022</td>\n",
       "      <td>2023-04-17</td>\n",
       "      <td>2411</td>\n",
       "      <td>Barclays Premier League</td>\n",
       "      <td>Leeds United</td>\n",
       "      <td>Liverpool</td>\n",
       "      <td>63.04</td>\n",
       "      <td>83.76</td>\n",
       "      <td>0.2128</td>\n",
       "      <td>0.5910</td>\n",
       "      <td>...</td>\n",
       "      <td>35.9</td>\n",
       "      <td>29.2</td>\n",
       "      <td>1.0</td>\n",
       "      <td>6.0</td>\n",
       "      <td>1.32</td>\n",
       "      <td>2.63</td>\n",
       "      <td>0.86</td>\n",
       "      <td>1.91</td>\n",
       "      <td>1.05</td>\n",
       "      <td>5.72</td>\n",
       "    </tr>\n",
       "    <tr>\n",
       "      <th>7593</th>\n",
       "      <td>2022</td>\n",
       "      <td>2023-04-05</td>\n",
       "      <td>2411</td>\n",
       "      <td>Barclays Premier League</td>\n",
       "      <td>West Ham United</td>\n",
       "      <td>Newcastle</td>\n",
       "      <td>72.28</td>\n",
       "      <td>81.67</td>\n",
       "      <td>0.2715</td>\n",
       "      <td>0.4608</td>\n",
       "      <td>...</td>\n",
       "      <td>24.5</td>\n",
       "      <td>74.5</td>\n",
       "      <td>1.0</td>\n",
       "      <td>5.0</td>\n",
       "      <td>0.93</td>\n",
       "      <td>2.31</td>\n",
       "      <td>0.77</td>\n",
       "      <td>1.75</td>\n",
       "      <td>1.05</td>\n",
       "      <td>4.45</td>\n",
       "    </tr>\n",
       "    <tr>\n",
       "      <th>7800</th>\n",
       "      <td>2022</td>\n",
       "      <td>2023-04-09</td>\n",
       "      <td>2411</td>\n",
       "      <td>Barclays Premier League</td>\n",
       "      <td>Leeds United</td>\n",
       "      <td>Crystal Palace</td>\n",
       "      <td>66.50</td>\n",
       "      <td>69.48</td>\n",
       "      <td>0.4432</td>\n",
       "      <td>0.2862</td>\n",
       "      <td>...</td>\n",
       "      <td>31.4</td>\n",
       "      <td>8.7</td>\n",
       "      <td>1.0</td>\n",
       "      <td>5.0</td>\n",
       "      <td>0.96</td>\n",
       "      <td>3.08</td>\n",
       "      <td>1.48</td>\n",
       "      <td>1.94</td>\n",
       "      <td>1.05</td>\n",
       "      <td>5.08</td>\n",
       "    </tr>\n",
       "    <tr>\n",
       "      <th>9223</th>\n",
       "      <td>2022</td>\n",
       "      <td>2023-05-08</td>\n",
       "      <td>2411</td>\n",
       "      <td>Barclays Premier League</td>\n",
       "      <td>Brighton and Hove Albion</td>\n",
       "      <td>Everton</td>\n",
       "      <td>82.75</td>\n",
       "      <td>60.10</td>\n",
       "      <td>0.6618</td>\n",
       "      <td>0.1515</td>\n",
       "      <td>...</td>\n",
       "      <td>25.3</td>\n",
       "      <td>93.2</td>\n",
       "      <td>1.0</td>\n",
       "      <td>5.0</td>\n",
       "      <td>3.19</td>\n",
       "      <td>2.60</td>\n",
       "      <td>3.54</td>\n",
       "      <td>1.59</td>\n",
       "      <td>1.05</td>\n",
       "      <td>4.58</td>\n",
       "    </tr>\n",
       "    <tr>\n",
       "      <th>3160</th>\n",
       "      <td>2022</td>\n",
       "      <td>2022-10-23</td>\n",
       "      <td>2411</td>\n",
       "      <td>Barclays Premier League</td>\n",
       "      <td>Wolverhampton</td>\n",
       "      <td>Leicester City</td>\n",
       "      <td>65.60</td>\n",
       "      <td>67.32</td>\n",
       "      <td>0.4007</td>\n",
       "      <td>0.3309</td>\n",
       "      <td>...</td>\n",
       "      <td>46.4</td>\n",
       "      <td>40.8</td>\n",
       "      <td>0.0</td>\n",
       "      <td>4.0</td>\n",
       "      <td>1.92</td>\n",
       "      <td>1.00</td>\n",
       "      <td>2.12</td>\n",
       "      <td>0.83</td>\n",
       "      <td>0.00</td>\n",
       "      <td>3.97</td>\n",
       "    </tr>\n",
       "  </tbody>\n",
       "</table>\n",
       "<p>5 rows × 23 columns</p>\n",
       "</div>"
      ],
      "text/plain": [
       "      season        date  league_id                   league  \\\n",
       "8224    2022  2023-04-17       2411  Barclays Premier League   \n",
       "7593    2022  2023-04-05       2411  Barclays Premier League   \n",
       "7800    2022  2023-04-09       2411  Barclays Premier League   \n",
       "9223    2022  2023-05-08       2411  Barclays Premier League   \n",
       "3160    2022  2022-10-23       2411  Barclays Premier League   \n",
       "\n",
       "                         team1           team2   spi1   spi2   prob1   prob2  \\\n",
       "8224              Leeds United       Liverpool  63.04  83.76  0.2128  0.5910   \n",
       "7593           West Ham United       Newcastle  72.28  81.67  0.2715  0.4608   \n",
       "7800              Leeds United  Crystal Palace  66.50  69.48  0.4432  0.2862   \n",
       "9223  Brighton and Hove Albion         Everton  82.75  60.10  0.6618  0.1515   \n",
       "3160             Wolverhampton  Leicester City  65.60  67.32  0.4007  0.3309   \n",
       "\n",
       "      ...  importance1  importance2  score1  score2   xg1   xg2  nsxg1  nsxg2  \\\n",
       "8224  ...         35.9         29.2     1.0     6.0  1.32  2.63   0.86   1.91   \n",
       "7593  ...         24.5         74.5     1.0     5.0  0.93  2.31   0.77   1.75   \n",
       "7800  ...         31.4          8.7     1.0     5.0  0.96  3.08   1.48   1.94   \n",
       "9223  ...         25.3         93.2     1.0     5.0  3.19  2.60   3.54   1.59   \n",
       "3160  ...         46.4         40.8     0.0     4.0  1.92  1.00   2.12   0.83   \n",
       "\n",
       "      adj_score1  adj_score2  \n",
       "8224        1.05        5.72  \n",
       "7593        1.05        4.45  \n",
       "7800        1.05        5.08  \n",
       "9223        1.05        4.58  \n",
       "3160        0.00        3.97  \n",
       "\n",
       "[5 rows x 23 columns]"
      ]
     },
     "execution_count": 10,
     "metadata": {},
     "output_type": "execute_result"
    }
   ],
   "source": [
    "english_matches.sort_values(by='score2', ascending=False).head(5)"
   ]
  },
  {
   "cell_type": "markdown",
   "id": "c35fb673",
   "metadata": {},
   "source": [
    "Here we see Liverpool again as the highest scoring (for an individual game) away team for the 2022 season where they scored 6 against Leeds"
   ]
  },
  {
   "cell_type": "code",
   "execution_count": 11,
   "id": "f6927b6f",
   "metadata": {},
   "outputs": [
    {
     "name": "stderr",
     "output_type": "stream",
     "text": [
      "C:\\Users\\cbara\\AppData\\Local\\Temp\\ipykernel_7472\\3051532509.py:1: SettingWithCopyWarning: \n",
      "A value is trying to be set on a copy of a slice from a DataFrame.\n",
      "Try using .loc[row_indexer,col_indexer] = value instead\n",
      "\n",
      "See the caveats in the documentation: https://pandas.pydata.org/pandas-docs/stable/user_guide/indexing.html#returning-a-view-versus-a-copy\n",
      "  english_matches['combined_scores'] = english_matches['score1'] + english_matches['score2']\n"
     ]
    },
    {
     "data": {
      "text/html": [
       "<div>\n",
       "<style scoped>\n",
       "    .dataframe tbody tr th:only-of-type {\n",
       "        vertical-align: middle;\n",
       "    }\n",
       "\n",
       "    .dataframe tbody tr th {\n",
       "        vertical-align: top;\n",
       "    }\n",
       "\n",
       "    .dataframe thead th {\n",
       "        text-align: right;\n",
       "    }\n",
       "</style>\n",
       "<table border=\"1\" class=\"dataframe\">\n",
       "  <thead>\n",
       "    <tr style=\"text-align: right;\">\n",
       "      <th></th>\n",
       "      <th>season</th>\n",
       "      <th>date</th>\n",
       "      <th>league_id</th>\n",
       "      <th>league</th>\n",
       "      <th>team1</th>\n",
       "      <th>team2</th>\n",
       "      <th>spi1</th>\n",
       "      <th>spi2</th>\n",
       "      <th>prob1</th>\n",
       "      <th>prob2</th>\n",
       "      <th>...</th>\n",
       "      <th>importance2</th>\n",
       "      <th>score1</th>\n",
       "      <th>score2</th>\n",
       "      <th>xg1</th>\n",
       "      <th>xg2</th>\n",
       "      <th>nsxg1</th>\n",
       "      <th>nsxg2</th>\n",
       "      <th>adj_score1</th>\n",
       "      <th>adj_score2</th>\n",
       "      <th>combined_scores</th>\n",
       "    </tr>\n",
       "  </thead>\n",
       "  <tbody>\n",
       "    <tr>\n",
       "      <th>1174</th>\n",
       "      <td>2022</td>\n",
       "      <td>2022-08-27</td>\n",
       "      <td>2411</td>\n",
       "      <td>Barclays Premier League</td>\n",
       "      <td>Liverpool</td>\n",
       "      <td>AFC Bournemouth</td>\n",
       "      <td>88.83</td>\n",
       "      <td>57.47</td>\n",
       "      <td>0.8292</td>\n",
       "      <td>0.0477</td>\n",
       "      <td>...</td>\n",
       "      <td>40.8</td>\n",
       "      <td>9.0</td>\n",
       "      <td>0.0</td>\n",
       "      <td>4.47</td>\n",
       "      <td>0.25</td>\n",
       "      <td>2.85</td>\n",
       "      <td>0.61</td>\n",
       "      <td>8.82</td>\n",
       "      <td>0.00</td>\n",
       "      <td>9.0</td>\n",
       "    </tr>\n",
       "    <tr>\n",
       "      <th>2325</th>\n",
       "      <td>2022</td>\n",
       "      <td>2022-10-02</td>\n",
       "      <td>2411</td>\n",
       "      <td>Barclays Premier League</td>\n",
       "      <td>Manchester City</td>\n",
       "      <td>Manchester United</td>\n",
       "      <td>92.98</td>\n",
       "      <td>75.94</td>\n",
       "      <td>0.7386</td>\n",
       "      <td>0.1028</td>\n",
       "      <td>...</td>\n",
       "      <td>58.6</td>\n",
       "      <td>6.0</td>\n",
       "      <td>3.0</td>\n",
       "      <td>3.20</td>\n",
       "      <td>1.71</td>\n",
       "      <td>2.82</td>\n",
       "      <td>0.71</td>\n",
       "      <td>6.25</td>\n",
       "      <td>3.15</td>\n",
       "      <td>9.0</td>\n",
       "    </tr>\n",
       "    <tr>\n",
       "      <th>9217</th>\n",
       "      <td>2022</td>\n",
       "      <td>2023-05-08</td>\n",
       "      <td>2411</td>\n",
       "      <td>Barclays Premier League</td>\n",
       "      <td>Fulham</td>\n",
       "      <td>Leicester City</td>\n",
       "      <td>67.01</td>\n",
       "      <td>66.69</td>\n",
       "      <td>0.3616</td>\n",
       "      <td>0.3836</td>\n",
       "      <td>...</td>\n",
       "      <td>73.9</td>\n",
       "      <td>5.0</td>\n",
       "      <td>3.0</td>\n",
       "      <td>1.68</td>\n",
       "      <td>3.34</td>\n",
       "      <td>1.40</td>\n",
       "      <td>0.96</td>\n",
       "      <td>5.25</td>\n",
       "      <td>3.15</td>\n",
       "      <td>8.0</td>\n",
       "    </tr>\n",
       "    <tr>\n",
       "      <th>2026</th>\n",
       "      <td>2022</td>\n",
       "      <td>2022-09-17</td>\n",
       "      <td>2411</td>\n",
       "      <td>Barclays Premier League</td>\n",
       "      <td>Tottenham Hotspur</td>\n",
       "      <td>Leicester City</td>\n",
       "      <td>81.87</td>\n",
       "      <td>67.43</td>\n",
       "      <td>0.6422</td>\n",
       "      <td>0.1584</td>\n",
       "      <td>...</td>\n",
       "      <td>31.7</td>\n",
       "      <td>6.0</td>\n",
       "      <td>2.0</td>\n",
       "      <td>2.45</td>\n",
       "      <td>1.78</td>\n",
       "      <td>1.60</td>\n",
       "      <td>1.18</td>\n",
       "      <td>5.48</td>\n",
       "      <td>2.10</td>\n",
       "      <td>8.0</td>\n",
       "    </tr>\n",
       "    <tr>\n",
       "      <th>9997</th>\n",
       "      <td>2022</td>\n",
       "      <td>2023-05-28</td>\n",
       "      <td>2411</td>\n",
       "      <td>Barclays Premier League</td>\n",
       "      <td>Southampton</td>\n",
       "      <td>Liverpool</td>\n",
       "      <td>57.33</td>\n",
       "      <td>84.09</td>\n",
       "      <td>0.2613</td>\n",
       "      <td>0.5196</td>\n",
       "      <td>...</td>\n",
       "      <td>0.0</td>\n",
       "      <td>4.0</td>\n",
       "      <td>4.0</td>\n",
       "      <td>1.41</td>\n",
       "      <td>4.06</td>\n",
       "      <td>0.96</td>\n",
       "      <td>2.97</td>\n",
       "      <td>4.20</td>\n",
       "      <td>4.20</td>\n",
       "      <td>8.0</td>\n",
       "    </tr>\n",
       "  </tbody>\n",
       "</table>\n",
       "<p>5 rows × 24 columns</p>\n",
       "</div>"
      ],
      "text/plain": [
       "      season        date  league_id                   league  \\\n",
       "1174    2022  2022-08-27       2411  Barclays Premier League   \n",
       "2325    2022  2022-10-02       2411  Barclays Premier League   \n",
       "9217    2022  2023-05-08       2411  Barclays Premier League   \n",
       "2026    2022  2022-09-17       2411  Barclays Premier League   \n",
       "9997    2022  2023-05-28       2411  Barclays Premier League   \n",
       "\n",
       "                  team1              team2   spi1   spi2   prob1   prob2  ...  \\\n",
       "1174          Liverpool    AFC Bournemouth  88.83  57.47  0.8292  0.0477  ...   \n",
       "2325    Manchester City  Manchester United  92.98  75.94  0.7386  0.1028  ...   \n",
       "9217             Fulham     Leicester City  67.01  66.69  0.3616  0.3836  ...   \n",
       "2026  Tottenham Hotspur     Leicester City  81.87  67.43  0.6422  0.1584  ...   \n",
       "9997        Southampton          Liverpool  57.33  84.09  0.2613  0.5196  ...   \n",
       "\n",
       "      importance2  score1  score2   xg1   xg2  nsxg1  nsxg2  adj_score1  \\\n",
       "1174         40.8     9.0     0.0  4.47  0.25   2.85   0.61        8.82   \n",
       "2325         58.6     6.0     3.0  3.20  1.71   2.82   0.71        6.25   \n",
       "9217         73.9     5.0     3.0  1.68  3.34   1.40   0.96        5.25   \n",
       "2026         31.7     6.0     2.0  2.45  1.78   1.60   1.18        5.48   \n",
       "9997          0.0     4.0     4.0  1.41  4.06   0.96   2.97        4.20   \n",
       "\n",
       "      adj_score2  combined_scores  \n",
       "1174        0.00              9.0  \n",
       "2325        3.15              9.0  \n",
       "9217        3.15              8.0  \n",
       "2026        2.10              8.0  \n",
       "9997        4.20              8.0  \n",
       "\n",
       "[5 rows x 24 columns]"
      ]
     },
     "execution_count": 11,
     "metadata": {},
     "output_type": "execute_result"
    }
   ],
   "source": [
    "english_matches['combined_scores'] = english_matches['score1'] + english_matches['score2']\n",
    "df_sorted = english_matches.sort_values(by='combined_scores', ascending=False).head(5)\n",
    "df_sorted"
   ]
  },
  {
   "cell_type": "markdown",
   "id": "ca22248b",
   "metadata": {},
   "source": [
    "The highest scoring overall matches of the season both featured 9 goals. One was a 9-0 one sided defeat to Bournemouth by Liverpool and the other was a 6-3 Manchester derby in which City was victorious"
   ]
  },
  {
   "cell_type": "code",
   "execution_count": 12,
   "id": "4d632d3a",
   "metadata": {
    "scrolled": false
   },
   "outputs": [],
   "source": [
    "#fig, ax = plt.subplots()\n",
    "#ax.hist(english_matches['combined_scores'], bins=10)\n",
    "\n",
    "#ax.set_xlabel('combined goals scored')\n",
    "#ax.set_ylabel('matches')\n",
    "#ax.set_title('Combined goals scored in 2022 EPL Season')\n",
    "#plt.show()\n"
   ]
  },
  {
   "cell_type": "code",
   "execution_count": 13,
   "id": "c2c4bde1",
   "metadata": {},
   "outputs": [
    {
     "name": "stderr",
     "output_type": "stream",
     "text": [
      "C:\\Users\\cbara\\AppData\\Local\\Temp\\ipykernel_7472\\3380731218.py:5: SettingWithCopyWarning: \n",
      "A value is trying to be set on a copy of a slice from a DataFrame.\n",
      "Try using .loc[row_indexer,col_indexer] = value instead\n",
      "\n",
      "See the caveats in the documentation: https://pandas.pydata.org/pandas-docs/stable/user_guide/indexing.html#returning-a-view-versus-a-copy\n",
      "  spanish_matches['combined_scores'] = spanish_matches['score1'] + spanish_matches['score2']\n",
      "C:\\Users\\cbara\\AppData\\Local\\Temp\\ipykernel_7472\\3380731218.py:6: SettingWithCopyWarning: \n",
      "A value is trying to be set on a copy of a slice from a DataFrame.\n",
      "Try using .loc[row_indexer,col_indexer] = value instead\n",
      "\n",
      "See the caveats in the documentation: https://pandas.pydata.org/pandas-docs/stable/user_guide/indexing.html#returning-a-view-versus-a-copy\n",
      "  german_matches['combined_scores'] = german_matches['score1'] + german_matches['score2']\n",
      "C:\\Users\\cbara\\AppData\\Local\\Temp\\ipykernel_7472\\3380731218.py:7: SettingWithCopyWarning: \n",
      "A value is trying to be set on a copy of a slice from a DataFrame.\n",
      "Try using .loc[row_indexer,col_indexer] = value instead\n",
      "\n",
      "See the caveats in the documentation: https://pandas.pydata.org/pandas-docs/stable/user_guide/indexing.html#returning-a-view-versus-a-copy\n",
      "  italy_matches['combined_scores'] = italy_matches['score1'] + italy_matches['score2']\n"
     ]
    }
   ],
   "source": [
    "spanish_matches = matches_df[matches_df['league'] == 'Spanish Primera Division']\n",
    "german_matches = matches_df[matches_df['league'] == 'German Bundesliga']\n",
    "italy_matches = matches_df[matches_df['league'] == 'Italy Serie A']\n",
    "\n",
    "spanish_matches['combined_scores'] = spanish_matches['score1'] + spanish_matches['score2']\n",
    "german_matches['combined_scores'] = german_matches['score1'] + german_matches['score2']\n",
    "italy_matches['combined_scores'] = italy_matches['score1'] + italy_matches['score2']"
   ]
  },
  {
   "cell_type": "code",
   "execution_count": 14,
   "id": "860d8bf5",
   "metadata": {
    "scrolled": false
   },
   "outputs": [
    {
     "data": {
      "image/png": "[encoded data removed]",
      "text/plain": [
       "<Figure size 640x480 with 4 Axes>"
      ]
     },
     "metadata": {},
     "output_type": "display_data"
    }
   ],
   "source": [
    "fig, axs = plt.subplots(2,2)\n",
    "plt.subplots_adjust(wspace=0.6, hspace=0.6)\n",
    "\n",
    "axs[0,0].hist(english_matches['combined_scores'], bins=10, color='blue')\n",
    "axs[0,0].set_title('English Premier League')\n",
    "axs[0,0].set_xticks(np.arange(0, 9, 1))\n",
    "\n",
    "axs[0,1].hist(spanish_matches['combined_scores'], bins=9, color='green')\n",
    "axs[0,1].set_title('Spanish Primera Division')\n",
    "axs[0,1].set_xticks(np.arange(0, 9, 1))\n",
    "\n",
    "axs[1,0].hist(german_matches['combined_scores'], bins=9, color='orange')\n",
    "axs[1,0].set_title('German Bundesliga')\n",
    "axs[1,0].set_xticks(np.arange(0, 9, 1))\n",
    "\n",
    "axs[1,1].hist(italy_matches['combined_scores'], bins=10, color='red')\n",
    "axs[1,1].set_title('Italy Serie A')\n",
    "axs[1,1].set_xticks(np.arange(0, 10, 1))\n",
    "\n",
    "for ax in axs.flat:\n",
    "    ax.set(xlabel='goals scored', ylabel='matches')"
   ]
  },
  {
   "cell_type": "code",
   "execution_count": 15,
   "id": "da9afdf1",
   "metadata": {},
   "outputs": [],
   "source": [
    "#probably shouldve made this a function!! too much reused code\n",
    "e_teams = english_matches['team1'].unique()\n",
    "combined_goals_arr = []\n",
    "for team in e_teams:\n",
    "    home_goals = english_matches[english_matches['team1'] == team].sum().score1\n",
    "    away_goals = english_matches[english_matches['team2'] == team].sum().score2\n",
    "    total_goals = home_goals + away_goals\n",
    "    combined_goals_arr.append(total_goals)\n",
    "\n",
    "s_teams = spanish_matches['team1'].unique()\n",
    "s_combined_goals_arr = []\n",
    "for team in s_teams:\n",
    "    home_goals = spanish_matches[spanish_matches['team1'] == team].sum().score1\n",
    "    away_goals = spanish_matches[spanish_matches['team2'] == team].sum().score2\n",
    "    total_goals = home_goals + away_goals\n",
    "    s_combined_goals_arr.append(total_goals)\n",
    "    \n",
    "g_teams = german_matches['team1'].unique()\n",
    "g_combined_goals_arr = []\n",
    "for team in g_teams:\n",
    "    home_goals = german_matches[german_matches['team1'] == team].sum().score1\n",
    "    away_goals = german_matches[german_matches['team2'] == team].sum().score2\n",
    "    total_goals = home_goals + away_goals\n",
    "    g_combined_goals_arr.append(total_goals)\n",
    "    \n",
    "i_teams = italy_matches['team1'].unique()\n",
    "i_combined_goals_arr = []\n",
    "for team in i_teams:\n",
    "    home_goals = italy_matches[italy_matches['team1'] == team].sum().score1\n",
    "    away_goals = italy_matches[italy_matches['team2'] == team].sum().score2\n",
    "    total_goals = home_goals + away_goals\n",
    "    i_combined_goals_arr.append(total_goals)"
   ]
  },
  {
   "cell_type": "code",
   "execution_count": 16,
   "id": "f8552f6f",
   "metadata": {},
   "outputs": [],
   "source": [
    "e_teams_tot_goals = pd.DataFrame(list(zip(e_teams, combined_goals_arr)), columns = ['Team', 'Goals Scored'])\n",
    "s_teams_tot_goals = pd.DataFrame(list(zip(s_teams, s_combined_goals_arr)), columns = ['Team', 'Goals Scored'])\n",
    "g_teams_tot_goals = pd.DataFrame(list(zip(g_teams, g_combined_goals_arr)), columns = ['Team', 'Goals Scored'])\n",
    "i_teams_tot_goals = pd.DataFrame(list(zip(i_teams, i_combined_goals_arr)), columns = ['Team', 'Goals Scored'])"
   ]
  },
  {
   "cell_type": "code",
   "execution_count": 17,
   "id": "9b950a05",
   "metadata": {},
   "outputs": [],
   "source": [
    "e_teams_tot_goals['League'] = 'English Premier'\n",
    "s_teams_tot_goals['League'] = 'Primera Division'\n",
    "g_teams_tot_goals['League'] = 'Bundesliga'\n",
    "i_teams_tot_goals['League'] = 'Serie A'"
   ]
  },
  {
   "cell_type": "code",
   "execution_count": 18,
   "id": "4a48d791",
   "metadata": {},
   "outputs": [],
   "source": [
    "tot_goals_merged = pd.concat([e_teams_tot_goals, s_teams_tot_goals, g_teams_tot_goals, i_teams_tot_goals], \n",
    "                             ignore_index=True, sort=False)"
   ]
  },
  {
   "cell_type": "code",
   "execution_count": 19,
   "id": "3e76ce02",
   "metadata": {},
   "outputs": [
    {
     "data": {
      "text/plain": [
       "<matplotlib.legend.Legend at 0x18c750585d0>"
      ]
     },
     "execution_count": 19,
     "metadata": {},
     "output_type": "execute_result"
    },
    {
     "data": {
      "image/png": "[encoded data removed]",
      "text/plain": [
       "<Figure size 640x480 with 1 Axes>"
      ]
     },
     "metadata": {},
     "output_type": "display_data"
    }
   ],
   "source": [
    "sns.stripplot(x='League', y='Goals Scored', data=tot_goals_merged, jitter=0.08, hue='League')\n",
    "plt.legend(bbox_to_anchor=(1.05, 1), loc='upper left', borderaxespad=0)"
   ]
  },
  {
   "cell_type": "markdown",
   "id": "5c081557",
   "metadata": {},
   "source": [
    "Top 5 Leagues by Average Team SPI"
   ]
  },
  {
   "cell_type": "code",
   "execution_count": 20,
   "id": "1b6c68ff",
   "metadata": {},
   "outputs": [
    {
     "data": {
      "text/html": [
       "<div>\n",
       "<style scoped>\n",
       "    .dataframe tbody tr th:only-of-type {\n",
       "        vertical-align: middle;\n",
       "    }\n",
       "\n",
       "    .dataframe tbody tr th {\n",
       "        vertical-align: top;\n",
       "    }\n",
       "\n",
       "    .dataframe thead th {\n",
       "        text-align: right;\n",
       "    }\n",
       "</style>\n",
       "<table border=\"1\" class=\"dataframe\">\n",
       "  <thead>\n",
       "    <tr style=\"text-align: right;\">\n",
       "      <th></th>\n",
       "      <th>spi1</th>\n",
       "      <th>spi2</th>\n",
       "    </tr>\n",
       "    <tr>\n",
       "      <th>league</th>\n",
       "      <th></th>\n",
       "      <th></th>\n",
       "    </tr>\n",
       "  </thead>\n",
       "  <tbody>\n",
       "    <tr>\n",
       "      <th>UEFA Champions League</th>\n",
       "      <td>76.900320</td>\n",
       "      <td>76.721040</td>\n",
       "    </tr>\n",
       "    <tr>\n",
       "      <th>Barclays Premier League</th>\n",
       "      <td>71.993947</td>\n",
       "      <td>72.036079</td>\n",
       "    </tr>\n",
       "    <tr>\n",
       "      <th>German Bundesliga</th>\n",
       "      <td>68.852582</td>\n",
       "      <td>68.815686</td>\n",
       "    </tr>\n",
       "    <tr>\n",
       "      <th>Spanish Primera Division</th>\n",
       "      <td>67.943842</td>\n",
       "      <td>68.086579</td>\n",
       "    </tr>\n",
       "    <tr>\n",
       "      <th>UEFA Europa League</th>\n",
       "      <td>63.075177</td>\n",
       "      <td>63.095177</td>\n",
       "    </tr>\n",
       "  </tbody>\n",
       "</table>\n",
       "</div>"
      ],
      "text/plain": [
       "                               spi1       spi2\n",
       "league                                        \n",
       "UEFA Champions League     76.900320  76.721040\n",
       "Barclays Premier League   71.993947  72.036079\n",
       "German Bundesliga         68.852582  68.815686\n",
       "Spanish Primera Division  67.943842  68.086579\n",
       "UEFA Europa League        63.075177  63.095177"
      ]
     },
     "execution_count": 20,
     "metadata": {},
     "output_type": "execute_result"
    }
   ],
   "source": [
    "#matches_df.groupby('league').mean(numeric_only=True).sort_values(by='spi1', ascending=False).head(5)\n",
    "group_mean_matches_df = matches_df.groupby('league').mean(numeric_only=True)\n",
    "group_mean_matches_df[['spi1', 'spi2']].sort_values(by='spi1', ascending=False).head(5)"
   ]
  },
  {
   "cell_type": "markdown",
   "id": "e6f50b9d",
   "metadata": {},
   "source": [
    "Top 5 Leagues by Goals Scored by Home Team"
   ]
  },
  {
   "cell_type": "code",
   "execution_count": 21,
   "id": "52409aa7",
   "metadata": {},
   "outputs": [
    {
     "data": {
      "text/html": [
       "<div>\n",
       "<style scoped>\n",
       "    .dataframe tbody tr th:only-of-type {\n",
       "        vertical-align: middle;\n",
       "    }\n",
       "\n",
       "    .dataframe tbody tr th {\n",
       "        vertical-align: top;\n",
       "    }\n",
       "\n",
       "    .dataframe thead th {\n",
       "        text-align: right;\n",
       "    }\n",
       "</style>\n",
       "<table border=\"1\" class=\"dataframe\">\n",
       "  <thead>\n",
       "    <tr style=\"text-align: right;\">\n",
       "      <th></th>\n",
       "      <th>score1</th>\n",
       "      <th>score2</th>\n",
       "    </tr>\n",
       "    <tr>\n",
       "      <th>league</th>\n",
       "      <th></th>\n",
       "      <th></th>\n",
       "    </tr>\n",
       "  </thead>\n",
       "  <tbody>\n",
       "    <tr>\n",
       "      <th>German Bundesliga</th>\n",
       "      <td>1.856209</td>\n",
       "      <td>1.316993</td>\n",
       "    </tr>\n",
       "    <tr>\n",
       "      <th>FA Women's Super League</th>\n",
       "      <td>1.787879</td>\n",
       "      <td>1.537879</td>\n",
       "    </tr>\n",
       "    <tr>\n",
       "      <th>Norwegian Tippeligaen</th>\n",
       "      <td>1.759036</td>\n",
       "      <td>1.204819</td>\n",
       "    </tr>\n",
       "    <tr>\n",
       "      <th>Chinese Super League</th>\n",
       "      <td>1.733333</td>\n",
       "      <td>1.354167</td>\n",
       "    </tr>\n",
       "    <tr>\n",
       "      <th>Dutch Eredivisie</th>\n",
       "      <td>1.728758</td>\n",
       "      <td>1.326797</td>\n",
       "    </tr>\n",
       "  </tbody>\n",
       "</table>\n",
       "</div>"
      ],
      "text/plain": [
       "                           score1    score2\n",
       "league                                     \n",
       "German Bundesliga        1.856209  1.316993\n",
       "FA Women's Super League  1.787879  1.537879\n",
       "Norwegian Tippeligaen    1.759036  1.204819\n",
       "Chinese Super League     1.733333  1.354167\n",
       "Dutch Eredivisie         1.728758  1.326797"
      ]
     },
     "execution_count": 21,
     "metadata": {},
     "output_type": "execute_result"
    }
   ],
   "source": [
    "group_mean_matches_df[['score1', 'score2']].sort_values(by='score1', ascending=False).head(5)"
   ]
  },
  {
   "cell_type": "markdown",
   "id": "f7581726",
   "metadata": {},
   "source": [
    "Top 5 Leagues by Goals Scored by Away Team"
   ]
  },
  {
   "cell_type": "code",
   "execution_count": 22,
   "id": "bda726b2",
   "metadata": {},
   "outputs": [
    {
     "data": {
      "text/html": [
       "<div>\n",
       "<style scoped>\n",
       "    .dataframe tbody tr th:only-of-type {\n",
       "        vertical-align: middle;\n",
       "    }\n",
       "\n",
       "    .dataframe tbody tr th {\n",
       "        vertical-align: top;\n",
       "    }\n",
       "\n",
       "    .dataframe thead th {\n",
       "        text-align: right;\n",
       "    }\n",
       "</style>\n",
       "<table border=\"1\" class=\"dataframe\">\n",
       "  <thead>\n",
       "    <tr style=\"text-align: right;\">\n",
       "      <th></th>\n",
       "      <th>score1</th>\n",
       "      <th>score2</th>\n",
       "    </tr>\n",
       "    <tr>\n",
       "      <th>league</th>\n",
       "      <th></th>\n",
       "      <th></th>\n",
       "    </tr>\n",
       "  </thead>\n",
       "  <tbody>\n",
       "    <tr>\n",
       "      <th>FA Women's Super League</th>\n",
       "      <td>1.787879</td>\n",
       "      <td>1.537879</td>\n",
       "    </tr>\n",
       "    <tr>\n",
       "      <th>Austrian T-Mobile Bundesliga</th>\n",
       "      <td>1.541237</td>\n",
       "      <td>1.427835</td>\n",
       "    </tr>\n",
       "    <tr>\n",
       "      <th>Belgian Jupiler League</th>\n",
       "      <td>1.651515</td>\n",
       "      <td>1.412121</td>\n",
       "    </tr>\n",
       "    <tr>\n",
       "      <th>Turkish Turkcell Super Lig</th>\n",
       "      <td>1.663743</td>\n",
       "      <td>1.380117</td>\n",
       "    </tr>\n",
       "    <tr>\n",
       "      <th>Chinese Super League</th>\n",
       "      <td>1.733333</td>\n",
       "      <td>1.354167</td>\n",
       "    </tr>\n",
       "  </tbody>\n",
       "</table>\n",
       "</div>"
      ],
      "text/plain": [
       "                                score1    score2\n",
       "league                                          \n",
       "FA Women's Super League       1.787879  1.537879\n",
       "Austrian T-Mobile Bundesliga  1.541237  1.427835\n",
       "Belgian Jupiler League        1.651515  1.412121\n",
       "Turkish Turkcell Super Lig    1.663743  1.380117\n",
       "Chinese Super League          1.733333  1.354167"
      ]
     },
     "execution_count": 22,
     "metadata": {},
     "output_type": "execute_result"
    }
   ],
   "source": [
    "group_mean_matches_df[['score1', 'score2']].sort_values(by='score2', ascending=False).head(5)"
   ]
  },
  {
   "cell_type": "markdown",
   "id": "35250e6a",
   "metadata": {},
   "source": [
    "Top 5 Leagues by Goals Scored by Either Team"
   ]
  },
  {
   "cell_type": "code",
   "execution_count": 23,
   "id": "a916e759",
   "metadata": {},
   "outputs": [
    {
     "data": {
      "text/html": [
       "<div>\n",
       "<style scoped>\n",
       "    .dataframe tbody tr th:only-of-type {\n",
       "        vertical-align: middle;\n",
       "    }\n",
       "\n",
       "    .dataframe tbody tr th {\n",
       "        vertical-align: top;\n",
       "    }\n",
       "\n",
       "    .dataframe thead th {\n",
       "        text-align: right;\n",
       "    }\n",
       "</style>\n",
       "<table border=\"1\" class=\"dataframe\">\n",
       "  <thead>\n",
       "    <tr style=\"text-align: right;\">\n",
       "      <th></th>\n",
       "      <th>avg_score</th>\n",
       "    </tr>\n",
       "    <tr>\n",
       "      <th>league</th>\n",
       "      <th></th>\n",
       "    </tr>\n",
       "  </thead>\n",
       "  <tbody>\n",
       "    <tr>\n",
       "      <th>FA Women's Super League</th>\n",
       "      <td>1.662879</td>\n",
       "    </tr>\n",
       "    <tr>\n",
       "      <th>German Bundesliga</th>\n",
       "      <td>1.586601</td>\n",
       "    </tr>\n",
       "    <tr>\n",
       "      <th>Chinese Super League</th>\n",
       "      <td>1.543750</td>\n",
       "    </tr>\n",
       "    <tr>\n",
       "      <th>Australian A-League</th>\n",
       "      <td>1.533742</td>\n",
       "    </tr>\n",
       "    <tr>\n",
       "      <th>Belgian Jupiler League</th>\n",
       "      <td>1.531818</td>\n",
       "    </tr>\n",
       "  </tbody>\n",
       "</table>\n",
       "</div>"
      ],
      "text/plain": [
       "                         avg_score\n",
       "league                            \n",
       "FA Women's Super League   1.662879\n",
       "German Bundesliga         1.586601\n",
       "Chinese Super League      1.543750\n",
       "Australian A-League       1.533742\n",
       "Belgian Jupiler League    1.531818"
      ]
     },
     "execution_count": 23,
     "metadata": {},
     "output_type": "execute_result"
    }
   ],
   "source": [
    "group_mean_matches_df['avg_score'] = (group_mean_matches_df['score1'] + group_mean_matches_df['score2']) / 2\n",
    "group_mean_matches_df[['avg_score']].sort_values(by='avg_score', ascending=False).head(5)"
   ]
  },
  {
   "cell_type": "markdown",
   "id": "dc61ccba",
   "metadata": {},
   "source": [
    "# Simulations"
   ]
  },
  {
   "cell_type": "code",
   "execution_count": 45,
   "id": "e81af662",
   "metadata": {},
   "outputs": [],
   "source": [
    "m_city_matches = english_matches[(english_matches['team1'] == 'Manchester City') | \n",
    "                                 (english_matches['team2'] == 'Manchester City')]\n",
    "m_city_matches = m_city_matches.reset_index()"
   ]
  },
  {
   "cell_type": "code",
   "execution_count": 52,
   "id": "90326105",
   "metadata": {},
   "outputs": [
    {
     "data": {
      "text/html": [
       "<div>\n",
       "<style scoped>\n",
       "    .dataframe tbody tr th:only-of-type {\n",
       "        vertical-align: middle;\n",
       "    }\n",
       "\n",
       "    .dataframe tbody tr th {\n",
       "        vertical-align: top;\n",
       "    }\n",
       "\n",
       "    .dataframe thead th {\n",
       "        text-align: right;\n",
       "    }\n",
       "</style>\n",
       "<table border=\"1\" class=\"dataframe\">\n",
       "  <thead>\n",
       "    <tr style=\"text-align: right;\">\n",
       "      <th></th>\n",
       "      <th>index</th>\n",
       "      <th>season</th>\n",
       "      <th>date</th>\n",
       "      <th>league_id</th>\n",
       "      <th>league</th>\n",
       "      <th>team1</th>\n",
       "      <th>team2</th>\n",
       "      <th>spi1</th>\n",
       "      <th>spi2</th>\n",
       "      <th>prob1</th>\n",
       "      <th>...</th>\n",
       "      <th>importance2</th>\n",
       "      <th>score1</th>\n",
       "      <th>score2</th>\n",
       "      <th>xg1</th>\n",
       "      <th>xg2</th>\n",
       "      <th>nsxg1</th>\n",
       "      <th>nsxg2</th>\n",
       "      <th>adj_score1</th>\n",
       "      <th>adj_score2</th>\n",
       "      <th>combined_scores</th>\n",
       "    </tr>\n",
       "  </thead>\n",
       "  <tbody>\n",
       "    <tr>\n",
       "      <th>0</th>\n",
       "      <td>629</td>\n",
       "      <td>2022</td>\n",
       "      <td>2022-08-07</td>\n",
       "      <td>2411</td>\n",
       "      <td>Barclays Premier League</td>\n",
       "      <td>West Ham United</td>\n",
       "      <td>Manchester City</td>\n",
       "      <td>70.62</td>\n",
       "      <td>92.31</td>\n",
       "      <td>0.1317</td>\n",
       "      <td>...</td>\n",
       "      <td>73.8</td>\n",
       "      <td>0.0</td>\n",
       "      <td>2.0</td>\n",
       "      <td>0.34</td>\n",
       "      <td>2.39</td>\n",
       "      <td>0.58</td>\n",
       "      <td>1.85</td>\n",
       "      <td>0.0</td>\n",
       "      <td>2.1</td>\n",
       "      <td>2.0</td>\n",
       "    </tr>\n",
       "  </tbody>\n",
       "</table>\n",
       "<p>1 rows × 25 columns</p>\n",
       "</div>"
      ],
      "text/plain": [
       "   index  season        date  league_id                   league  \\\n",
       "0    629    2022  2022-08-07       2411  Barclays Premier League   \n",
       "\n",
       "             team1            team2   spi1   spi2   prob1  ...  importance2  \\\n",
       "0  West Ham United  Manchester City  70.62  92.31  0.1317  ...         73.8   \n",
       "\n",
       "   score1  score2   xg1   xg2  nsxg1  nsxg2  adj_score1  adj_score2  \\\n",
       "0     0.0     2.0  0.34  2.39   0.58   1.85         0.0         2.1   \n",
       "\n",
       "   combined_scores  \n",
       "0              2.0  \n",
       "\n",
       "[1 rows x 25 columns]"
      ]
     },
     "execution_count": 52,
     "metadata": {},
     "output_type": "execute_result"
    }
   ],
   "source": [
    "m_city_matches.iloc[:1]"
   ]
  },
  {
   "cell_type": "code",
   "execution_count": 55,
   "id": "15e407f1",
   "metadata": {},
   "outputs": [],
   "source": [
    "west_ham_proj_score = m_city_matches.iloc[0].proj_score1\n",
    "man_city_proj_score = m_city_matches.iloc[0].proj_score2\n",
    "\n",
    "num_simulations = 1000\n",
    "\n",
    "west_ham_goals = np.random.poisson(west_ham_proj_score, num_simulations)\n",
    "man_city_goals = np.random.poisson(man_city_proj_score, num_simulations)\n",
    "\n",
    "sim_results = pd.DataFrame({'West Ham Goals': west_ham_goals, 'Man City Goals': man_city_goals})"
   ]
  },
  {
   "cell_type": "code",
   "execution_count": 58,
   "id": "ce95a3e3",
   "metadata": {},
   "outputs": [
    {
     "data": {
      "text/plain": [
       "West Ham Goals  Man City Goals\n",
       "0               0                  38\n",
       "                1                  98\n",
       "                2                 100\n",
       "                3                  70\n",
       "                4                  54\n",
       "                5                  15\n",
       "                6                  10\n",
       "                7                   4\n",
       "                9                   1\n",
       "1               0                  39\n",
       "                1                  88\n",
       "                2                 103\n",
       "                3                  65\n",
       "                4                  54\n",
       "                5                  27\n",
       "                6                   8\n",
       "                7                   2\n",
       "                8                   1\n",
       "2               0                  18\n",
       "                1                  28\n",
       "                2                  42\n",
       "                3                  30\n",
       "                4                  16\n",
       "                5                  10\n",
       "                6                   1\n",
       "                7                   1\n",
       "3               0                   7\n",
       "                1                  15\n",
       "                2                  15\n",
       "                3                   9\n",
       "                4                   9\n",
       "                5                   4\n",
       "                6                   2\n",
       "4               1                   3\n",
       "                2                   4\n",
       "                3                   3\n",
       "                4                   1\n",
       "                6                   1\n",
       "5               3                   3\n",
       "                6                   1\n",
       "dtype: int64"
      ]
     },
     "execution_count": 58,
     "metadata": {},
     "output_type": "execute_result"
    }
   ],
   "source": [
    "sim_results.value_counts().sort_index()"
   ]
  },
  {
   "cell_type": "code",
   "execution_count": 60,
   "id": "3f9aaf9b",
   "metadata": {
    "scrolled": false
   },
   "outputs": [
    {
     "data": {
      "text/html": [
       "<div>\n",
       "<style scoped>\n",
       "    .dataframe tbody tr th:only-of-type {\n",
       "        vertical-align: middle;\n",
       "    }\n",
       "\n",
       "    .dataframe tbody tr th {\n",
       "        vertical-align: top;\n",
       "    }\n",
       "\n",
       "    .dataframe thead th {\n",
       "        text-align: right;\n",
       "    }\n",
       "</style>\n",
       "<table border=\"1\" class=\"dataframe\">\n",
       "  <thead>\n",
       "    <tr style=\"text-align: right;\">\n",
       "      <th></th>\n",
       "      <th>0</th>\n",
       "      <th>1</th>\n",
       "      <th>2</th>\n",
       "      <th>3</th>\n",
       "      <th>4</th>\n",
       "      <th>5</th>\n",
       "      <th>6</th>\n",
       "      <th>7</th>\n",
       "      <th>8</th>\n",
       "      <th>9</th>\n",
       "    </tr>\n",
       "  </thead>\n",
       "  <tbody>\n",
       "    <tr>\n",
       "      <th>0</th>\n",
       "      <td>3.8</td>\n",
       "      <td>9.8</td>\n",
       "      <td>10.0</td>\n",
       "      <td>7.0</td>\n",
       "      <td>5.4</td>\n",
       "      <td>1.5</td>\n",
       "      <td>1.0</td>\n",
       "      <td>0.4</td>\n",
       "      <td>0.0</td>\n",
       "      <td>0.1</td>\n",
       "    </tr>\n",
       "    <tr>\n",
       "      <th>1</th>\n",
       "      <td>3.9</td>\n",
       "      <td>8.8</td>\n",
       "      <td>10.3</td>\n",
       "      <td>6.5</td>\n",
       "      <td>5.4</td>\n",
       "      <td>2.7</td>\n",
       "      <td>0.8</td>\n",
       "      <td>0.2</td>\n",
       "      <td>0.1</td>\n",
       "      <td>0.0</td>\n",
       "    </tr>\n",
       "    <tr>\n",
       "      <th>2</th>\n",
       "      <td>1.8</td>\n",
       "      <td>2.8</td>\n",
       "      <td>4.2</td>\n",
       "      <td>3.0</td>\n",
       "      <td>1.6</td>\n",
       "      <td>1.0</td>\n",
       "      <td>0.1</td>\n",
       "      <td>0.1</td>\n",
       "      <td>0.0</td>\n",
       "      <td>0.0</td>\n",
       "    </tr>\n",
       "    <tr>\n",
       "      <th>3</th>\n",
       "      <td>0.7</td>\n",
       "      <td>1.5</td>\n",
       "      <td>1.5</td>\n",
       "      <td>0.9</td>\n",
       "      <td>0.9</td>\n",
       "      <td>0.4</td>\n",
       "      <td>0.2</td>\n",
       "      <td>0.0</td>\n",
       "      <td>0.0</td>\n",
       "      <td>0.0</td>\n",
       "    </tr>\n",
       "    <tr>\n",
       "      <th>4</th>\n",
       "      <td>0.0</td>\n",
       "      <td>0.3</td>\n",
       "      <td>0.4</td>\n",
       "      <td>0.3</td>\n",
       "      <td>0.1</td>\n",
       "      <td>0.0</td>\n",
       "      <td>0.1</td>\n",
       "      <td>0.0</td>\n",
       "      <td>0.0</td>\n",
       "      <td>0.0</td>\n",
       "    </tr>\n",
       "    <tr>\n",
       "      <th>5</th>\n",
       "      <td>0.0</td>\n",
       "      <td>0.0</td>\n",
       "      <td>0.0</td>\n",
       "      <td>0.3</td>\n",
       "      <td>0.0</td>\n",
       "      <td>0.0</td>\n",
       "      <td>0.1</td>\n",
       "      <td>0.0</td>\n",
       "      <td>0.0</td>\n",
       "      <td>0.0</td>\n",
       "    </tr>\n",
       "  </tbody>\n",
       "</table>\n",
       "</div>"
      ],
      "text/plain": [
       "     0    1     2    3    4    5    6    7    8    9\n",
       "0  3.8  9.8  10.0  7.0  5.4  1.5  1.0  0.4  0.0  0.1\n",
       "1  3.9  8.8  10.3  6.5  5.4  2.7  0.8  0.2  0.1  0.0\n",
       "2  1.8  2.8   4.2  3.0  1.6  1.0  0.1  0.1  0.0  0.0\n",
       "3  0.7  1.5   1.5  0.9  0.9  0.4  0.2  0.0  0.0  0.0\n",
       "4  0.0  0.3   0.4  0.3  0.1  0.0  0.1  0.0  0.0  0.0\n",
       "5  0.0  0.0   0.0  0.3  0.0  0.0  0.1  0.0  0.0  0.0"
      ]
     },
     "execution_count": 60,
     "metadata": {},
     "output_type": "execute_result"
    }
   ],
   "source": [
    "west_ham_unique = np.unique(west_ham_goals)\n",
    "man_city_unique = np.unique(man_city_goals)\n",
    "\n",
    "score_matrix = pd.DataFrame(index=west_ham_unique, columns=man_city_unique)\n",
    "for west_score in west_ham_unique:\n",
    "    for city_score in man_city_unique:\n",
    "        count = np.sum((west_ham_goals == west_score) & (man_city_goals == city_score))\n",
    "        percentage = count / num_simulations * 100\n",
    "        score_matrix.loc[west_score, city_score] = percentage\n",
    "\n",
    "score_matrix = score_matrix.astype(float)\n",
    "score_matrix"
   ]
  },
  {
   "cell_type": "markdown",
   "id": "b6e81b13",
   "metadata": {},
   "source": [
    "The most likely outcome at 10.3% was a 2-1 win for Man City over West Ham. A 2-0 win for City over West Ham followed closely at 10% likelihood"
   ]
  },
  {
   "cell_type": "code",
   "execution_count": 62,
   "id": "366bc88d",
   "metadata": {},
   "outputs": [
    {
     "data": {
      "text/plain": [
       "0.0"
      ]
     },
     "execution_count": 62,
     "metadata": {},
     "output_type": "execute_result"
    }
   ],
   "source": [
    "west_ham_actual_score = m_city_matches.iloc[0].score1\n",
    "west_ham_actual_score"
   ]
  },
  {
   "cell_type": "code",
   "execution_count": 63,
   "id": "fa3cbbef",
   "metadata": {
    "scrolled": true
   },
   "outputs": [
    {
     "data": {
      "text/plain": [
       "2.0"
      ]
     },
     "execution_count": 63,
     "metadata": {},
     "output_type": "execute_result"
    }
   ],
   "source": [
    "man_city_actual_score = m_city_matches.iloc[0].score2\n",
    "man_city_actual_score "
   ]
  },
  {
   "cell_type": "markdown",
   "id": "e6ae5577",
   "metadata": {},
   "source": [
    "The actual score of the game between both teams was a 2-0 win for City over West Ham. Not bad !"
   ]
  },
  {
   "cell_type": "code",
   "execution_count": 74,
   "id": "fe50a58a",
   "metadata": {},
   "outputs": [
    {
     "data": {
      "image/png": "[encoded data removed]",
      "text/plain": [
       "<Figure size 1200x600 with 2 Axes>"
      ]
     },
     "metadata": {},
     "output_type": "display_data"
    }
   ],
   "source": [
    "plt.figure(figsize=(12,6))\n",
    "\n",
    "plt.subplot(1,2,1)\n",
    "plt.hist(west_ham_goals, bins = 5, color='#7A263A')\n",
    "plt.title('West Ham Projected Goals')\n",
    "plt.xlabel('Goals')\n",
    "plt.ylabel('Occurences')\n",
    "plt.xticks(np.arange(0, 6, 1))\n",
    "\n",
    "plt.subplot(1,2,2)\n",
    "plt.hist(man_city_goals, bins = 9, color='#6CABDD')\n",
    "plt.title('Man City Projected Goals')\n",
    "plt.xlabel('Goals')\n",
    "plt.ylabel('Occurences')\n",
    "plt.xticks(np.arange(0, 10, 1))\n",
    "\n",
    "plt.tight_layout()\n",
    "plt.show()"
   ]
  },
  {
   "cell_type": "markdown",
   "id": "2975368e",
   "metadata": {},
   "source": [
    "# SPI "
   ]
  },
  {
   "cell_type": "code",
   "execution_count": 24,
   "id": "d2179f79",
   "metadata": {},
   "outputs": [],
   "source": [
    "spi_df = pd.read_csv('spi_global_rankings.csv')"
   ]
  },
  {
   "cell_type": "code",
   "execution_count": 25,
   "id": "375bb3c2",
   "metadata": {},
   "outputs": [
    {
     "data": {
      "text/html": [
       "<div>\n",
       "<style scoped>\n",
       "    .dataframe tbody tr th:only-of-type {\n",
       "        vertical-align: middle;\n",
       "    }\n",
       "\n",
       "    .dataframe tbody tr th {\n",
       "        vertical-align: top;\n",
       "    }\n",
       "\n",
       "    .dataframe thead th {\n",
       "        text-align: right;\n",
       "    }\n",
       "</style>\n",
       "<table border=\"1\" class=\"dataframe\">\n",
       "  <thead>\n",
       "    <tr style=\"text-align: right;\">\n",
       "      <th></th>\n",
       "      <th>rank</th>\n",
       "      <th>prev_rank</th>\n",
       "      <th>name</th>\n",
       "      <th>league</th>\n",
       "      <th>off</th>\n",
       "      <th>def</th>\n",
       "      <th>spi</th>\n",
       "    </tr>\n",
       "  </thead>\n",
       "  <tbody>\n",
       "    <tr>\n",
       "      <th>0</th>\n",
       "      <td>1</td>\n",
       "      <td>1</td>\n",
       "      <td>Manchester City</td>\n",
       "      <td>Barclays Premier League</td>\n",
       "      <td>2.79</td>\n",
       "      <td>0.28</td>\n",
       "      <td>92.00</td>\n",
       "    </tr>\n",
       "    <tr>\n",
       "      <th>1</th>\n",
       "      <td>2</td>\n",
       "      <td>2</td>\n",
       "      <td>Bayern Munich</td>\n",
       "      <td>German Bundesliga</td>\n",
       "      <td>3.04</td>\n",
       "      <td>0.68</td>\n",
       "      <td>87.66</td>\n",
       "    </tr>\n",
       "    <tr>\n",
       "      <th>2</th>\n",
       "      <td>3</td>\n",
       "      <td>3</td>\n",
       "      <td>Barcelona</td>\n",
       "      <td>Spanish Primera Division</td>\n",
       "      <td>2.45</td>\n",
       "      <td>0.43</td>\n",
       "      <td>86.40</td>\n",
       "    </tr>\n",
       "    <tr>\n",
       "      <th>3</th>\n",
       "      <td>4</td>\n",
       "      <td>4</td>\n",
       "      <td>Real Madrid</td>\n",
       "      <td>Spanish Primera Division</td>\n",
       "      <td>2.56</td>\n",
       "      <td>0.60</td>\n",
       "      <td>84.41</td>\n",
       "    </tr>\n",
       "    <tr>\n",
       "      <th>4</th>\n",
       "      <td>5</td>\n",
       "      <td>5</td>\n",
       "      <td>Liverpool</td>\n",
       "      <td>Barclays Premier League</td>\n",
       "      <td>2.63</td>\n",
       "      <td>0.67</td>\n",
       "      <td>83.93</td>\n",
       "    </tr>\n",
       "  </tbody>\n",
       "</table>\n",
       "</div>"
      ],
      "text/plain": [
       "   rank  prev_rank             name                    league   off   def  \\\n",
       "0     1          1  Manchester City   Barclays Premier League  2.79  0.28   \n",
       "1     2          2    Bayern Munich         German Bundesliga  3.04  0.68   \n",
       "2     3          3        Barcelona  Spanish Primera Division  2.45  0.43   \n",
       "3     4          4      Real Madrid  Spanish Primera Division  2.56  0.60   \n",
       "4     5          5        Liverpool   Barclays Premier League  2.63  0.67   \n",
       "\n",
       "     spi  \n",
       "0  92.00  \n",
       "1  87.66  \n",
       "2  86.40  \n",
       "3  84.41  \n",
       "4  83.93  "
      ]
     },
     "execution_count": 25,
     "metadata": {},
     "output_type": "execute_result"
    }
   ],
   "source": [
    "spi_df.head()"
   ]
  },
  {
   "cell_type": "code",
   "execution_count": 26,
   "id": "c87b12d9",
   "metadata": {
    "scrolled": true
   },
   "outputs": [],
   "source": [
    "top_20 = spi_df.head(20).sort_values('spi', ascending=False)\n",
    "#plt.barh(top_20['name'], top_20['spi'], color='blue')"
   ]
  },
  {
   "cell_type": "code",
   "execution_count": 27,
   "id": "dd350a41",
   "metadata": {},
   "outputs": [
    {
     "data": {
      "text/plain": [
       "<matplotlib.legend.Legend at 0x18c755b1f90>"
      ]
     },
     "execution_count": 27,
     "metadata": {},
     "output_type": "execute_result"
    },
    {
     "data": {
      "image/png": "[encoded data removed]",
      "text/plain": [
       "<Figure size 640x480 with 1 Axes>"
      ]
     },
     "metadata": {},
     "output_type": "display_data"
    }
   ],
   "source": [
    "ax = sns.barplot(x='spi', y='name', data=top_20, hue='league',dodge=False)\n",
    "plt.legend(bbox_to_anchor=(1.05, 1), loc='upper left', borderaxespad=0)"
   ]
  },
  {
   "cell_type": "code",
   "execution_count": 28,
   "id": "cbb42cec",
   "metadata": {},
   "outputs": [],
   "source": [
    "top_5_leagues = ['Barclays Premier League', 'German Bundesliga',\n",
    "       'Spanish Primera Division', 'Italy Serie A','French Ligue 1']"
   ]
  },
  {
   "cell_type": "code",
   "execution_count": 29,
   "id": "cca1fd7d",
   "metadata": {},
   "outputs": [],
   "source": [
    "top_5_spi_df = spi_df[spi_df.league.isin(top_5_leagues)]"
   ]
  },
  {
   "cell_type": "code",
   "execution_count": 30,
   "id": "31695289",
   "metadata": {},
   "outputs": [
    {
     "data": {
      "text/plain": [
       "-0.9015665140601727"
      ]
     },
     "execution_count": 30,
     "metadata": {},
     "output_type": "execute_result"
    }
   ],
   "source": [
    "top_5_spi_df['def'].corr(top_5_spi_df['spi'])"
   ]
  },
  {
   "cell_type": "code",
   "execution_count": 31,
   "id": "ecfd0ddf",
   "metadata": {},
   "outputs": [
    {
     "data": {
      "text/plain": [
       "<Axes: xlabel='def', ylabel='spi'>"
      ]
     },
     "execution_count": 31,
     "metadata": {},
     "output_type": "execute_result"
    },
    {
     "data": {
      "image/png": "[encoded data removed]",
      "text/plain": [
       "<Figure size 640x480 with 1 Axes>"
      ]
     },
     "metadata": {},
     "output_type": "display_data"
    }
   ],
   "source": [
    "sns.scatterplot(x='def', y='spi', data=top_5_spi_df, hue='league')"
   ]
  },
  {
   "cell_type": "code",
   "execution_count": 32,
   "id": "bd3d8110",
   "metadata": {},
   "outputs": [
    {
     "data": {
      "text/plain": [
       "0.8973879976544833"
      ]
     },
     "execution_count": 32,
     "metadata": {},
     "output_type": "execute_result"
    }
   ],
   "source": [
    "top_5_spi_df['off'].corr(top_5_spi_df['spi'])"
   ]
  },
  {
   "cell_type": "code",
   "execution_count": 33,
   "id": "e8fbf13b",
   "metadata": {
    "scrolled": false
   },
   "outputs": [
    {
     "data": {
      "text/plain": [
       "<Axes: xlabel='off', ylabel='spi'>"
      ]
     },
     "execution_count": 33,
     "metadata": {},
     "output_type": "execute_result"
    },
    {
     "data": {
      "image/png": "[encoded data removed]",
      "text/plain": [
       "<Figure size 640x480 with 1 Axes>"
      ]
     },
     "metadata": {},
     "output_type": "display_data"
    }
   ],
   "source": [
    "sns.scatterplot(x='off', y='spi', data=top_5_spi_df, hue='league')"
   ]
  },
  {
   "cell_type": "code",
   "execution_count": 34,
   "id": "eaaae1d1",
   "metadata": {},
   "outputs": [
    {
     "data": {
      "text/plain": [
       "-0.6366483766923691"
      ]
     },
     "execution_count": 34,
     "metadata": {},
     "output_type": "execute_result"
    }
   ],
   "source": [
    "top_5_spi_df['off'].corr(top_5_spi_df['def'])"
   ]
  },
  {
   "cell_type": "code",
   "execution_count": 35,
   "id": "620f6ab0",
   "metadata": {
    "scrolled": false
   },
   "outputs": [
    {
     "data": {
      "text/plain": [
       "<Axes: xlabel='off', ylabel='def'>"
      ]
     },
     "execution_count": 35,
     "metadata": {},
     "output_type": "execute_result"
    },
    {
     "data": {
      "image/png": "[encoded data removed]",
      "text/plain": [
       "<Figure size 640x480 with 1 Axes>"
      ]
     },
     "metadata": {},
     "output_type": "display_data"
    }
   ],
   "source": [
    "sns.scatterplot(x='off', y='def', data=top_5_spi_df, hue='league')"
   ]
  },
  {
   "cell_type": "code",
   "execution_count": 36,
   "id": "89f0ebe0",
   "metadata": {},
   "outputs": [
    {
     "data": {
      "text/plain": [
       "0.9583501424571513"
      ]
     },
     "execution_count": 36,
     "metadata": {},
     "output_type": "execute_result"
    }
   ],
   "source": [
    "#spi_df.corr()\n",
    "spi_df['off'].corr(spi_df['spi'])"
   ]
  },
  {
   "cell_type": "code",
   "execution_count": 37,
   "id": "69e37dfc",
   "metadata": {},
   "outputs": [
    {
     "data": {
      "text/plain": [
       "Text(2, 100, 'y = 34.8x - 1.96')"
      ]
     },
     "execution_count": 37,
     "metadata": {},
     "output_type": "execute_result"
    },
    {
     "data": {
      "image/png": "[encoded data removed]",
      "text/plain": [
       "<Figure size 640x480 with 1 Axes>"
      ]
     },
     "metadata": {},
     "output_type": "display_data"
    }
   ],
   "source": [
    "p = sns.regplot(x='off', y='spi', data=spi_df,\n",
    "               line_kws={'color':'red'})\n",
    "plt.text(2,100, 'y = 34.8x - 1.96')\n"
   ]
  },
  {
   "cell_type": "code",
   "execution_count": 38,
   "id": "328a76eb",
   "metadata": {},
   "outputs": [],
   "source": [
    "slope, intercept, r, p, sterr = scipy.stats.linregress(x=p.get_lines()[0].get_xdata(),\n",
    "                                                       y=p.get_lines()[0].get_ydata())"
   ]
  },
  {
   "cell_type": "code",
   "execution_count": 39,
   "id": "741a2387",
   "metadata": {},
   "outputs": [
    {
     "name": "stdout",
     "output_type": "stream",
     "text": [
      "34.81739575935769 -1.9589318086849659\n"
     ]
    }
   ],
   "source": [
    "print(slope, intercept)"
   ]
  },
  {
   "cell_type": "markdown",
   "id": "b0930a70",
   "metadata": {},
   "source": [
    "Regression formula for off and SPI is y=34.8x - 1.96"
   ]
  }
 ],
 "metadata": {
  "kernelspec": {
   "display_name": "Python 3 (ipykernel)",
   "language": "python",
   "name": "python3"
  },
  "language_info": {
   "codemirror_mode": {
    "name": "ipython",
    "version": 3
   },
   "file_extension": ".py",
   "mimetype": "text/x-python",
   "name": "python",
   "nbconvert_exporter": "python",
   "pygments_lexer": "ipython3",
   "version": "3.11.4"
  }
 },
 "nbformat": 4,
 "nbformat_minor": 5
}
